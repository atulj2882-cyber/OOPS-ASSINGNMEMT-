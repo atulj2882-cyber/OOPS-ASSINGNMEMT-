{
  "nbformat": 4,
  "nbformat_minor": 0,
  "metadata": {
    "colab": {
      "provenance": []
    },
    "kernelspec": {
      "name": "python3",
      "display_name": "Python 3"
    },
    "language_info": {
      "name": "python"
    }
  },
  "cells": [
    {
      "cell_type": "markdown",
      "source": [
        "**THEORY**"
      ],
      "metadata": {
        "id": "DsHHpfhJOQM2"
      }
    },
    {
      "cell_type": "markdown",
      "source": [
        "1.  What is Object-Oriented Programming (OOP) ?"
      ],
      "metadata": {
        "id": "RmMe5X-uOp3q"
      }
    },
    {
      "cell_type": "markdown",
      "metadata": {
        "id": "f45b5a4a"
      },
      "source": [
        "**Object-Oriented Programming (OOP)** is a programming paradigm based on the concept of \"objects\", which can contain data and code: data in the form of fields (often known as attributes or properties), and code, in the form of procedures (often known as methods).\n",
        "\n",
        "Key concepts of OOP include:\n",
        "\n",
        "*   **Objects:** Instances of a class, representing real-world entities.\n",
        "*   **Classes:** Blueprints for creating objects, defining their properties and behaviors.\n",
        "*   **Encapsulation:** Bundling data and methods within a class, hiding internal details.\n",
        "*   **Abstraction:** Simplifying complex systems by focusing on essential features and hiding unnecessary details.\n",
        "*   **Inheritance:** Creating new classes (derived classes) based on existing classes (base classes), inheriting their properties and behaviors.\n",
        "*   **Polymorphism:** Allowing objects of different classes to respond to the same method call in their own way."
      ]
    },
    {
      "cell_type": "markdown",
      "source": [
        "2. What is a class in OOP ?"
      ],
      "metadata": {
        "id": "I2FHfONIQMWZ"
      }
    },
    {
      "cell_type": "markdown",
      "metadata": {
        "id": "56d3f8b6"
      },
      "source": [
        "In Object-Oriented Programming (OOP), a **class** is a blueprint or a template for creating objects. It defines the properties (attributes) and behaviors (methods) that objects of that class will have. Think of a class like a cookie cutter; it provides the shape and form for creating many identical cookies (objects).\n",
        "\n",
        "Key aspects of a class:\n",
        "\n",
        "*   **Attributes:** These are variables that store data related to the class's objects. For example, in a `Car` class, attributes might include `make`, `model`, `year`, and `color`.\n",
        "*   **Methods:** These are functions defined within the class that perform actions or operations on the object's data. In the `Car` class example, methods could include `start_engine()`, `stop_engine()`, and `drive()`.\n",
        "*   **Objects (Instances):** When you create a specific car based on the `Car` class blueprint, that car is an instance or object of the `Car` class. Each object has its own unique set of data for the defined attributes (e.g., one `Car` object might have `color = 'red'` and another `color = 'blue'`).\n",
        "\n",
        "Classes provide a way to structure and organize code, making it more modular, reusable, and easier to manage."
      ]
    },
    {
      "cell_type": "markdown",
      "source": [
        "3. What is an object in OOP ?"
      ],
      "metadata": {
        "id": "JXCHGHtjQdNj"
      }
    },
    {
      "cell_type": "markdown",
      "metadata": {
        "id": "adedc9c0"
      },
      "source": [
        "In Object-Oriented Programming (OOP), an **object** is an instance of a class. It is a concrete entity created from the blueprint defined by a class. Objects have the properties (attributes) and behaviors (methods) that are defined in their class.\n",
        "\n",
        "Think of a class as a general template for a type of thing (like the `Car` class), and an object as a specific example of that thing (like your personal car with its unique make, model, color, and current state).\n",
        "\n",
        "Key characteristics of objects:\n",
        "\n",
        "*   **Identity:** Each object is a distinct entity in memory, even if it has the same attribute values as another object.\n",
        "*   **State:** The state of an object is defined by the values of its attributes at a particular point in time. For example, the state of a `Car` object might include its current speed, gear, and fuel level.\n",
        "*   **Behavior:** The behavior of an object is defined by the methods of its class. These methods allow objects to perform actions and interact with other objects.\n",
        "\n",
        "Objects are the fundamental building blocks of OOP applications. They allow you to model real-world entities and their interactions in a structured and organized way."
      ]
    },
    {
      "cell_type": "markdown",
      "source": [
        "4.What is the difference between abstraction and encapsulation ?"
      ],
      "metadata": {
        "id": "eomiMMjkQ6qY"
      }
    },
    {
      "cell_type": "markdown",
      "metadata": {
        "id": "7780c95e"
      },
      "source": [
        "In Object-Oriented Programming (OOP):\n",
        "\n",
        "*   **Encapsulation:** Bundling data and methods within a class to hide internal details and control access. Think of it as putting related things in a box to protect them.\n",
        "*   **Abstraction:** Simplifying complex systems by focusing on essential features and hiding unnecessary details. Think of it as showing only what's needed and hiding the complexity.\n",
        "\n",
        "Essentially, Encapsulation is about **hiding implementation**, while Abstraction is about **hiding complexity** and showing only what's relevant. They often work together to make code more manageable and understandable."
      ]
    },
    {
      "cell_type": "markdown",
      "source": [
        "5. What are dunder methods in Python ?"
      ],
      "metadata": {
        "id": "ZTbSANuhRTNH"
      }
    },
    {
      "cell_type": "markdown",
      "metadata": {
        "id": "7e9b35e0"
      },
      "source": [
        "In Python, **dunder methods** (short for \"double underscore methods\") are special methods that have double underscores at the beginning and end of their names, like `__init__` or `__str__`. They are also known as **magic methods** or **special methods**.\n",
        "\n",
        "Dunder methods allow you to define how objects of your classes interact with built-in operations and functions in Python. They are not meant to be called directly by you, but rather are invoked by the Python interpreter under specific circumstances.\n",
        "\n",
        "Here are a few common examples of dunder methods:\n",
        "\n",
        "*   `__init__(self, ...)`: The constructor method, called when an object is created. It's used to initialize the object's attributes.\n",
        "*   `__str__(self)`: Defines the string representation of an object, which is returned when you use the `str()` function or `print()` on an object.\n",
        "*   `__repr__(self)`: Defines the \"official\" string representation of an object, which is often used for debugging. It's called when you simply type the object's name in the interpreter.\n",
        "*   `__len__(self)`: Defines the behavior of the `len()` function when applied to an object.\n",
        "*   `__add__(self, other)`: Defines the behavior of the `+` operator for objects of your class.\n",
        "\n",
        "By implementing dunder methods in your classes, you can make your objects behave like built-in Python objects, allowing them to work seamlessly with Python's features and syntax."
      ]
    },
    {
      "cell_type": "markdown",
      "source": [
        "6. Explain the concept of inheritance in OOP."
      ],
      "metadata": {
        "id": "ok0rpkNvRgpm"
      }
    },
    {
      "cell_type": "markdown",
      "metadata": {
        "id": "a410b693"
      },
      "source": [
        "In Object-Oriented Programming (OOP), **inheritance** is a mechanism that allows a new class (called the **derived class** or **subclass**) to inherit properties (attributes) and behaviors (methods) from an existing class (called the **base class** or **superclass**).\n",
        "\n",
        "Think of it like real-world inheritance: a child inherits certain traits from their parents. Similarly, in OOP, a subclass inherits the characteristics of its superclass.\n",
        "\n",
        "Key aspects of inheritance:\n",
        "\n",
        "*   **Code Reusability:** Inheritance promotes code reusability because you don't have to rewrite the same attributes and methods in the new class. The subclass automatically gets them from the superclass.\n",
        "*   **Establishing Relationships:** Inheritance establishes an \"is-a\" relationship between classes. For example, a `Dog` \"is a\" type of `Animal`, so the `Dog` class can inherit from the `Animal` class.\n",
        "*   **Extending Functionality:** Subclasses can add their own unique attributes and methods, as well as override or modify the inherited methods to provide specific behavior.\n",
        "\n",
        "**Example:**\n",
        "\n",
        "Let's say you have a `Vehicle` base class with attributes like `make`, `model`, and methods like `start_engine()` and `stop_engine()`.\n",
        "\n",
        "You could then create derived classes like `Car`, `Motorcycle`, and `Truck` that inherit from `Vehicle`. These subclasses would automatically have the `make`, `model`, `start_engine()`, and `stop_engine()` features.\n",
        "\n",
        "Additionally, the `Car` class might add a specific attribute like `number_of_doors` and a method like `open_trunk()`, which are specific to cars and not necessarily applicable to all vehicles.\n",
        "\n",
        "Inheritance is a powerful tool for creating a hierarchical structure in your code, making it more organized, maintainable, and scalable."
      ]
    },
    {
      "cell_type": "markdown",
      "source": [
        "7. What is polymorphism in OOP ?"
      ],
      "metadata": {
        "id": "MnNJk0mxRyhB"
      }
    },
    {
      "cell_type": "markdown",
      "metadata": {
        "id": "200b6da8"
      },
      "source": [
        "In Object-Oriented Programming (OOP), **polymorphism** means \"many forms.\" It refers to the ability of different objects to respond to the same method call in their own way. This allows you to treat objects of different classes in a uniform manner, as long as they share a common superclass or implement a common interface.\n",
        "\n",
        "Key aspects of polymorphism:\n",
        "\n",
        "*   **Method Overriding:** Subclasses can provide their own implementation of a method that is already defined in their superclass. When that method is called on an object of the subclass, the subclass's version is executed.\n",
        "*   **Method Overloading (not directly supported in Python in the same way as some other languages, but achievable through default arguments or variable-length arguments):** Defining multiple methods with the same name but different parameters within the same class.\n",
        "*   **Duck Typing (Python's approach):** If an object walks like a duck and quacks like a duck, it's a duck. In Python, polymorphism is often achieved by focusing on the object's behavior (what methods it has) rather than its explicit type. If multiple objects have the same method name, you can call that method on any of them, and each object will execute its own version.\n",
        "\n",
        "**Example:**\n",
        "\n",
        "Let's say you have a superclass `Animal` with a method `speak()`.\n",
        "\n",
        "You could have subclasses `Dog` and `Cat` that inherit from `Animal`. Both `Dog` and `Cat` can have their own implementation of the `speak()` method:\n",
        "\n",
        "*   A `Dog` object's `speak()` method might print \"Woof!\".\n",
        "*   A `Cat` object's `speak()` method might print \"Meow!\".\n",
        "\n",
        "With polymorphism, you can have a list of `Animal` objects that includes both `Dog` and `Cat` objects. When you loop through the list and call the `speak()` method on each object, the appropriate `speak()` method for each object's type will be executed:"
      ]
    },
    {
      "cell_type": "markdown",
      "source": [
        "8. How is encapsulation achieved in Python ?"
      ],
      "metadata": {
        "id": "h9-q6daDSA9h"
      }
    },
    {
      "cell_type": "markdown",
      "metadata": {
        "id": "d98e14d3"
      },
      "source": [
        "\n",
        "In Python, encapsulation is typically achieved through the use of:\n",
        "\n",
        "1.  **Naming Conventions:** By convention, attributes or methods that are intended to be \"private\" (not directly accessed from outside the class) are prefixed with a single underscore (`_`). This is a strong hint to other developers that these members are for internal use only.\n",
        "\n",
        "2.  **Name Mangling:** For attributes or methods that need a stronger form of privacy, you can prefix them with a double underscore (`__`). Python's name mangling feature then changes the name of the attribute or method to make it harder to access directly from outside the class. For example, `__my_attribute` in a class named `MyClass` would be internally represented as `_MyClass__my_attribute`. This doesn't make it impossible to access, but it makes it less straightforward and indicates a strong intention of privacy.\n",
        "\n",
        "3.  **Getter and Setter Methods:** While not strictly enforced by the language, it is common practice to use getter and setter methods to control how attributes are accessed and modified. This allows you to add validation or other logic when an attribute is accessed or changed.\n",
        "\n"
      ]
    },
    {
      "cell_type": "markdown",
      "source": [
        "9.What is a constructor in Python ?"
      ],
      "metadata": {
        "id": "xuIM7KtsSWNE"
      }
    },
    {
      "cell_type": "markdown",
      "metadata": {
        "id": "f5c8625a"
      },
      "source": [
        "In Python, a **constructor** is a special method within a class that is automatically called when an object of that class is created (instantiated). The primary purpose of a constructor is to initialize the attributes (data) of the newly created object.\n",
        "\n",
        "In Python, the constructor method is always named `__init__`. The `__init__` method takes `self` as its first parameter, which refers to the instance of the object being created. You can also define other parameters to accept values that will be used to initialize the object's attributes.\n",
        "\n",
        "**Key points about constructors (`__init__`) in Python:**\n",
        "\n",
        "*   **Automatic Invocation:** You don't explicitly call `__init__`. It's called automatically by Python when you create an object of the class.\n",
        "*   **Initialization:** Its main job is to set up the initial state of the object by assigning values to its attributes.\n",
        "*   **`self` Parameter:** The `self` parameter is a reference to the instance of the class. It's used within the `__init__` method to access and set the object's attributes.\n",
        "*   **Optional Parameters:** You can define `__init__` with additional parameters to customize the object's initial state when it's created.\n",
        "\n",
        "**Example:**"
      ]
    },
    {
      "cell_type": "markdown",
      "source": [
        "10. What are class and static methods in Python ?"
      ],
      "metadata": {
        "id": "3TwmhmC1Sowc"
      }
    },
    {
      "cell_type": "markdown",
      "metadata": {
        "id": "4dcb6b2e"
      },
      "source": [
        "In Python, **class methods** and **static methods** are types of methods defined within a class, but they differ in how they are bound and what they can access:\n",
        "\n",
        "**Class Methods:**\n",
        "\n",
        "*   **Definition:** Defined using the `@classmethod` decorator.\n",
        "*   **First Parameter:** Takes the class itself as the first parameter, conventionally named `cls`.\n",
        "*   **Purpose:** Often used to create factory methods that return an instance of the class or to provide alternative ways to create objects. They can access and modify class-level attributes.\n",
        "*   **Access:** Can access class attributes and other class methods.\n",
        "\n",
        "**Static Methods:**\n",
        "\n",
        "*   **Definition:** Defined using the `@staticmethod` decorator.\n",
        "*   **First Parameter:** Does not take an implicit first parameter (like `self` or `cls`).\n",
        "*   **Purpose:** Utility functions that are logically related to the class but do not need access to instance or class-specific data. They behave like regular functions but are defined within the class's namespace.\n",
        "*   **Access:** Cannot access instance attributes, class attributes, or other instance/class methods directly.\n",
        "\n",
        "**Key Differences:**\n",
        "\n",
        "| Feature          | Class Method (`@classmethod`)          | Static Method (`@staticmethod`)          |\n",
        "| :--------------- | :------------------------------------- | :--------------------------------------- |\n",
        "| Decorator        | `@classmethod`                         | `@staticmethod`                          |\n",
        "| First Parameter  | `cls` (the class itself)               | None (no implicit first parameter)       |\n",
        "| Access to Class  | Yes                                    | No                                       |\n",
        "| Access to Instance | No (unless passed explicitly)           | No                                       |\n",
        "| Use Cases        | Factory methods, class-level operations | Utility functions, related but independent |\n",
        "\n",
        "**When to use them:**\n",
        "\n",
        "*   Use **class methods** when you need a method that operates on the class itself, such as creating instances with different initializations or accessing/modifying class-level data.\n",
        "*   Use **static methods** when you have a utility function that belongs logically to the class but doesn't need to interact with instance or class data.\n",
        "\n"
      ]
    },
    {
      "cell_type": "code",
      "metadata": {
        "colab": {
          "base_uri": "https://localhost:8080/"
        },
        "id": "fac9f35a",
        "outputId": "dbb2ca82-124d-49af-e98f-30c1fe2d4b3b"
      },
      "source": [
        "class MyClass:\n",
        "    class_variable = \"I am a class variable\"\n",
        "\n",
        "    def __init__(self, instance_variable):\n",
        "        self.instance_variable = instance_variable\n",
        "\n",
        "    def instance_method(self):\n",
        "        print(f\"Instance method: Accessing instance variable - {self.instance_variable}\")\n",
        "        print(f\"Instance method: Accessing class variable - {self.class_variable}\")\n",
        "\n",
        "    @classmethod\n",
        "    def class_method(cls):\n",
        "        print(f\"Class method: Accessing class variable - {cls.class_variable}\")\n",
        "        print(f\"Class method: Creating an instance using class method:\")\n",
        "        return cls(\"I was created by a class method\")\n",
        "\n",
        "    @staticmethod\n",
        "    def static_method(x, y):\n",
        "        print(f\"Static method: Performing addition - {x + y}\")\n",
        "        # Cannot access instance or class variables directly from here\n",
        "\n",
        "# Creating an instance of the class\n",
        "obj = MyClass(\"I am an instance variable\")\n",
        "\n",
        "# Calling instance method\n",
        "obj.instance_method()\n",
        "\n",
        "# Calling class method\n",
        "new_obj = MyClass.class_method()\n",
        "new_obj.instance_method() # Demonstrating that the class method returned an instance\n",
        "\n",
        "# Calling static method\n",
        "MyClass.static_method(5, 10)"
      ],
      "execution_count": null,
      "outputs": [
        {
          "output_type": "stream",
          "name": "stdout",
          "text": [
            "Instance method: Accessing instance variable - I am an instance variable\n",
            "Instance method: Accessing class variable - I am a class variable\n",
            "Class method: Accessing class variable - I am a class variable\n",
            "Class method: Creating an instance using class method:\n",
            "Instance method: Accessing instance variable - I was created by a class method\n",
            "Instance method: Accessing class variable - I am a class variable\n",
            "Static method: Performing addition - 15\n"
          ]
        }
      ]
    },
    {
      "cell_type": "markdown",
      "source": [
        "11. What is method overloading in Python  ?"
      ],
      "metadata": {
        "id": "7WjaV69-TO2K"
      }
    },
    {
      "cell_type": "markdown",
      "metadata": {
        "id": "7b512842"
      },
      "source": [
        "In Python, **method overloading** in the traditional sense (defining multiple methods with the same name but different parameter lists within the same class) is **not directly supported** like it is in some other languages (e.g., Java or C++).\n",
        "\n",
        "However, Python achieves similar functionality through more flexible mechanisms:\n",
        "\n",
        "1.  **Default Arguments:** You can define a method with default values for its parameters. This allows you to call the method with a varying number of arguments."
      ]
    },
    {
      "cell_type": "code",
      "metadata": {
        "colab": {
          "base_uri": "https://localhost:8080/"
        },
        "id": "f18a8fd3",
        "outputId": "b792c89d-d168-405f-ff70-67d77071b3e5"
      },
      "source": [
        "    class MyClass:\n",
        "        def sum_numbers(self, *args):\n",
        "            return sum(args)\n",
        "\n",
        "    obj = MyClass()\n",
        "    print(obj.sum_numbers(1, 2))         # Output: 3\n",
        "    print(obj.sum_numbers(1, 2, 3, 4)) # Output: 10"
      ],
      "execution_count": null,
      "outputs": [
        {
          "output_type": "stream",
          "name": "stdout",
          "text": [
            "3\n",
            "10\n"
          ]
        }
      ]
    },
    {
      "cell_type": "code",
      "metadata": {
        "colab": {
          "base_uri": "https://localhost:8080/"
        },
        "id": "af5b0b85",
        "outputId": "51386e2a-c808-429e-f0e1-dc5d0abf77be"
      },
      "source": [
        "    class MyClass:\n",
        "        def process_data(self, data):\n",
        "            if isinstance(data, int):\n",
        "                print(f\"Processing integer: {data * 2}\")\n",
        "            elif isinstance(data, str):\n",
        "                print(f\"Processing string: {data.upper()}\")\n",
        "            else:\n",
        "                print(\"Unsupported data type\")\n",
        "\n",
        "    obj = MyClass()\n",
        "    obj.process_data(10)      # Output: Processing integer: 20\n",
        "    obj.process_data(\"hello\") # Output: Processing string: HELLO\n",
        "    obj.process_data([1, 2])  # Output: Unsupported data type"
      ],
      "execution_count": null,
      "outputs": [
        {
          "output_type": "stream",
          "name": "stdout",
          "text": [
            "Processing integer: 20\n",
            "Processing string: HELLO\n",
            "Unsupported data type\n"
          ]
        }
      ]
    },
    {
      "cell_type": "markdown",
      "source": [
        "12.What is method overriding in OOP ?"
      ],
      "metadata": {
        "id": "gQRgYJhhTg_q"
      }
    },
    {
      "cell_type": "markdown",
      "metadata": {
        "id": "3a8d8f02"
      },
      "source": [
        "In Object-Oriented Programming (OOP), **method overriding** is a feature that allows a subclass (derived class) to provide a specific implementation for a method that is already defined in its superclass (base class).\n",
        "\n",
        "When a method is overridden in the subclass, the version of the method in the subclass is executed when called on an object of the subclass, instead of the version in the superclass.\n",
        "\n",
        "Key aspects of method overriding:\n",
        "\n",
        "*   **Inheritance:** Method overriding can only occur in the context of inheritance, where there is a superclass and a subclass.\n",
        "*   **Same Method Signature:** The method in the subclass must have the same name, number of parameters, and types of parameters as the method in the superclass that it is overriding.\n",
        "*   **Different Implementation:** The implementation of the method in the subclass is different from the implementation in the superclass.\n",
        "*   **Polymorphism:** Method overriding is a key aspect of polymorphism, allowing objects of different classes to respond to the same method call in different ways.\n",
        "\n",
        "**Example:**\n",
        "\n",
        "Let's consider the `Animal` and `Dog` classes again. The `Animal` class might have a generic `speak()` method, while the `Dog` class overrides the `speak()` method to provide a dog-specific sound."
      ]
    },
    {
      "cell_type": "markdown",
      "source": [
        "13. What is a property decorator in Python ?"
      ],
      "metadata": {
        "id": "HEO7SuwvT4l1"
      }
    },
    {
      "cell_type": "markdown",
      "metadata": {
        "id": "3cc2c0d2"
      },
      "source": [
        "In Python, the `@property` decorator is a built-in decorator that is used to define methods within a class that can be accessed like attributes. It provides a convenient way to add getter, setter, and deleter functionality to an attribute without changing the way the attribute is accessed.\n",
        "\n",
        "Essentially, `@property` allows you to encapsulate the logic for getting, setting, or deleting an attribute while still providing a simple dot notation interface to the user of the class.\n",
        "\n",
        "**How it works:**\n",
        "\n",
        "When you apply `@property` to a method, that method becomes a \"getter\" for an attribute with the same name as the method. You can then define additional methods with the same name as the property, decorated with `@<property_name>.setter` and `@<property_name>.deleter`, to handle setting and deleting the attribute's value, respectively.\n",
        "\n",
        "**Benefits of using `@property`:**\n",
        "\n",
        "*   **Encapsulation:** It helps in encapsulating the internal representation of an attribute.\n",
        "*   **Controlled Access:** You can add validation, logging, or other logic when an attribute is accessed or modified.\n",
        "*   **Readability:** It makes the code more readable and easier to understand, as you interact with attributes directly rather than calling separate getter and setter methods.\n",
        "*   **Backward Compatibility:** You can change the internal implementation of an attribute (e.g., from a simple variable to a computed value) without changing the external interface of the class.\n",
        "\n",
        "**Example:**"
      ]
    },
    {
      "cell_type": "code",
      "metadata": {
        "colab": {
          "base_uri": "https://localhost:8080/"
        },
        "id": "2be202bc",
        "outputId": "38d0c0be-8dee-4c7c-f1e4-59025336bc93"
      },
      "source": [
        "class Circle:\n",
        "    def __init__(self, radius):\n",
        "        self._radius = radius  # Using a convention for a \"private\" attribute\n",
        "\n",
        "    @property\n",
        "    def radius(self):\n",
        "        \"\"\"Get the radius of the circle.\"\"\"\n",
        "        print(\"Getting radius...\")\n",
        "        return self._radius\n",
        "\n",
        "    @radius.setter\n",
        "    def radius(self, value):\n",
        "        \"\"\"Set the radius of the circle with validation.\"\"\"\n",
        "        print(\"Setting radius...\")\n",
        "        if value >= 0:\n",
        "            self._radius = value\n",
        "        else:\n",
        "            raise ValueError(\"Radius cannot be negative\")\n",
        "\n",
        "    @property\n",
        "    def area(self):\n",
        "        \"\"\"Calculate the area of the circle.\"\"\"\n",
        "        print(\"Calculating area...\")\n",
        "        return 3.14159 * self._radius**2\n",
        "\n",
        "# Creating an instance of the Circle class\n",
        "my_circle = Circle(5)\n",
        "\n",
        "# Accessing the radius using the property (calls the getter)\n",
        "print(f\"Initial radius: {my_circle.radius}\")\n",
        "\n",
        "# Setting the radius using the property (calls the setter)\n",
        "my_circle.radius = 10\n",
        "print(f\"New radius: {my_circle.radius}\")\n",
        "\n",
        "# Accessing the area using the property (calls the getter for area)\n",
        "print(f\"Area: {my_circle.area}\")\n",
        "\n",
        "# Trying to set a negative radius (will raise a ValueError)\n",
        "try:\n",
        "    my_circle.radius = -5\n",
        "except ValueError as e:\n",
        "    print(f\"Error: {e}\")"
      ],
      "execution_count": null,
      "outputs": [
        {
          "output_type": "stream",
          "name": "stdout",
          "text": [
            "Getting radius...\n",
            "Initial radius: 5\n",
            "Setting radius...\n",
            "Getting radius...\n",
            "New radius: 10\n",
            "Calculating area...\n",
            "Area: 314.159\n",
            "Setting radius...\n",
            "Error: Radius cannot be negative\n"
          ]
        }
      ]
    },
    {
      "cell_type": "markdown",
      "source": [
        "14. Why is polymorphism important in OOP ?"
      ],
      "metadata": {
        "id": "PZBLNBU7URGz"
      }
    },
    {
      "cell_type": "markdown",
      "metadata": {
        "id": "ef11b6af"
      },
      "source": [
        "Polymorphism is a crucial concept in Object-Oriented Programming (OOP) because it offers several significant benefits:\n",
        "\n",
        "1.  **Flexibility and Extensibility:** Polymorphism allows you to design systems that are more flexible and easier to extend. You can write code that works with objects of a base class, and that code will automatically work with any objects of derived classes, even if those derived classes are created later. This means you can add new types of objects to your system without having to modify existing code.\n",
        "\n",
        "2.  **Code Reusability:** With polymorphism, you can write generic code that operates on objects of different types. This reduces the need to write repetitive code for each specific type. For example, you can have a function that takes an `Animal` object and calls its `speak()` method. Because of polymorphism, this function will work correctly with any `Animal` subclass (like `Dog`, `Cat`, `Cow`, etc.), without needing separate code for each animal type.\n",
        "\n",
        "3.  **Simplified Code:** Polymorphism simplifies your code by allowing you to treat objects of different types in a uniform manner. This makes your code more readable, understandable, and easier to maintain. You don't need to use complex conditional statements (like `if-elif-else` or `switch-case`) to handle different object types.\n",
        "\n",
        "4.  **Maintainability:** When you need to modify the behavior of a specific type of object, you only need to change the implementation in the corresponding subclass. Because of polymorphism, the code that uses the base class will automatically pick up the new behavior without needing to be updated.\n",
        "\n",
        "5.  **Decoupling:** Polymorphism helps to decouple the code that uses objects from the specific types of those objects. This means that changes in the implementation of a derived class are less likely to affect the code that uses the base class.\n",
        "\n",
        "In essence, polymorphism makes your code more dynamic, adaptable, and easier to manage in the face of changing requirements and the introduction of new types of objects. It's a fundamental principle that contributes to the power and effectiveness of OOP."
      ]
    },
    {
      "cell_type": "markdown",
      "source": [
        "15. What is an abstract class in Python ?"
      ],
      "metadata": {
        "id": "LVbW-720UeXy"
      }
    },
    {
      "cell_type": "markdown",
      "metadata": {
        "id": "2221cd54"
      },
      "source": [
        "In Python, an **abstract class** is a class that cannot be instantiated directly. It is designed to be a blueprint for other classes (subclasses) and often contains one or more **abstract methods**. Abstract methods are methods declared in the abstract class but do not have an implementation; subclasses are required to provide their own implementation for these methods.\n",
        "\n",
        "Abstract classes are used to define a common interface for a set of subclasses. They enforce a certain structure and behavior on the subclasses, ensuring that they all implement specific methods. This is useful when you want to define a general category of objects but don't want to create objects of that general category itself.\n",
        "\n",
        "Python's `abc` module (Abstract Base Classes) provides the infrastructure for defining abstract base classes. You use the `ABC` class as a base class and the `@abstractmethod` decorator to declare abstract methods.\n",
        "\n",
        "**Key characteristics of abstract classes in Python:**\n",
        "\n",
        "*   **Cannot be instantiated:** You cannot create an object directly from an abstract class.\n",
        "*   **Contain abstract methods:** They typically include methods declared with `@abstractmethod` that have no implementation.\n",
        "*   **Require subclass implementation:** Any concrete subclass (a class that can be instantiated) of an abstract class must provide an implementation for all of the abstract methods defined in the abstract class.\n",
        "*   **Define a common interface:** They establish a contract that subclasses must adhere to.\n",
        "\n",
        "**Why use abstract classes?**\n",
        "\n",
        "*   **Enforce structure:** They ensure that subclasses implement necessary methods.\n",
        "*   **Promote consistency:** They help maintain a consistent interface across related classes.\n",
        "*   **Prevent incomplete objects:** By not allowing instantiation of the abstract class, you prevent the creation of objects that are not fully implemented.\n",
        "\n",
        "**Example (using `abc` module):**"
      ]
    },
    {
      "cell_type": "markdown",
      "source": [
        "16.What are the advantages of OOP ?"
      ],
      "metadata": {
        "id": "fjkdInvniOxV"
      }
    },
    {
      "cell_type": "markdown",
      "metadata": {
        "id": "c4c2abc2"
      },
      "source": [
        "**Advantages of OOP**\n",
        "\n",
        "Object-Oriented Programming (OOP) offers several significant advantages in software development:\n",
        "\n",
        "1.  **Modularity and Reusability:** OOP promotes breaking down complex systems into smaller, self-contained objects. These objects can be reused across different parts of the program or in other projects, reducing development time and effort.\n",
        "\n",
        "2.  **Maintainability:** The modular nature of OOP makes code easier to maintain. Changes to one object are less likely to affect other parts of the system, simplifying debugging and updates.\n",
        "\n",
        "3.  **Flexibility and Extensibility:** OOP designs are generally more flexible and easier to extend. New features or types of objects can be added without significantly altering existing code, thanks to concepts like inheritance and polymorphism.\n",
        "\n",
        "4.  **Improved Readability and Understanding:** OOP helps organize code in a logical and intuitive way, mapping closely to real-world concepts. This makes the code easier to read, understand, and collaborate on.\n",
        "\n",
        "5.  **Reduced Complexity:** By encapsulating data and behavior within objects, OOP helps manage complexity in large applications. Developers can focus on the interactions between objects rather than the intricate details of their internal workings.\n",
        "\n",
        "6.  **Polymorphism:** This allows objects of different classes to be treated as objects of a common superclass. This leads to more generic and flexible code, reducing the need for complex conditional logic.\n",
        "\n",
        "7.  **Enhanced Security (through Encapsulation):** Encapsulation helps protect data from accidental or unauthorized modification by controlling access to an object's internal state.\n",
        "\n",
        "8.  **Easier Debugging:** Because objects are self-contained, it can be easier to isolate and debug issues within a specific object rather than tracing problems across a vast, interconnected codebase.\n",
        "\n",
        "These advantages collectively contribute to the development of more robust, scalable, and manageable software systems."
      ]
    },
    {
      "cell_type": "markdown",
      "source": [
        "17.What is the difference between a class variable and an instance variable ?"
      ],
      "metadata": {
        "id": "eUWHjGwWiiBA"
      }
    },
    {
      "cell_type": "markdown",
      "metadata": {
        "id": "1457f255"
      },
      "source": [
        "In Python, the key difference between **class variables** and **instance variables** lies in how they are defined, accessed, and their scope:\n",
        "\n",
        "**Class Variables:**\n",
        "\n",
        "*   **Definition:** Class variables are defined directly within the class but outside of any method.\n",
        "*   **Scope:** They are shared by all instances (objects) of the class. There is only one copy of the class variable, which is associated with the class itself.\n",
        "*   **Access:** They can be accessed using the class name (e.g., `ClassName.class_variable`) or through an instance of the class (e.g., `instance.class_variable`). However, modifying a class variable through an instance can sometimes lead to unexpected behavior if not done carefully (it can create an instance variable with the same name).\n",
        "*   **Purpose:** Used to store data that is common to all instances of the class, such as constants or default values.\n",
        "\n",
        "**Instance Variables:**\n",
        "\n",
        "*   **Definition:** Instance variables are defined within the methods of a class, typically in the `__init__` constructor method, using the `self` keyword (e.g., `self.instance_variable`).\n",
        "*   **Scope:** They are unique to each instance (object) of the class. Each object has its own copy of the instance variable.\n",
        "*   **Access:** They are accessed using the instance of the class (e.g., `instance.instance_variable`).\n",
        "*   **Purpose:** Used to store data that is specific to each individual instance of the class, representing the state of that particular object.\n",
        "\n",
        "**Analogy:**\n",
        "\n",
        "Think of a blueprint for a house (the class).\n",
        "\n",
        "*   **Class variables** are like the number of floors or the type of roof specified in the blueprint – these are common characteristics for all houses built from that blueprint.\n",
        "*   **Instance variables** are like the color of the paint on a specific house or the furniture inside – these are unique to each individual house built from the blueprint.\n",
        "\n",
        "**In summary:**\n",
        "\n",
        "| Feature         | Class Variable                     | Instance Variable                       |\n",
        "| :-------------- | :--------------------------------- | :-------------------------------------- |\n",
        "| **Defined**     | Inside the class, outside methods | Inside methods (usually `__init__`), using `self` |\n",
        "| **Scope**       | Shared by all instances            | Unique to each instance                 |\n",
        "| **Access**      | `ClassName.variable` or `instance.variable` | `instance.variable`                     |\n",
        "| **Purpose**     | Common data for all instances      | Data specific to each instance          |"
      ]
    },
    {
      "cell_type": "markdown",
      "source": [
        "18.What is multiple inheritance in Python ?"
      ],
      "metadata": {
        "id": "vauqyN4pjEBS"
      }
    },
    {
      "cell_type": "markdown",
      "metadata": {
        "id": "77f30c24"
      },
      "source": [
        "In Python, **multiple inheritance** is a feature that allows a class to inherit from more than one parent class. This means that a single class can inherit attributes and methods from multiple superclasses.\n",
        "\n",
        "When a class inherits from multiple parent classes, it combines the characteristics of all its parent classes. This can be a powerful tool for code reuse and creating complex class hierarchies.\n",
        "\n",
        "**How it works in Python:**\n",
        "\n",
        "Python supports multiple inheritance by allowing you to list multiple parent classes in the class definition's parentheses, separated by commas:"
      ]
    },
    {
      "cell_type": "markdown",
      "source": [
        "19.Explain the purpose of ‘’__str__’ and ‘__repr__’ ‘ methods in Python."
      ],
      "metadata": {
        "id": "ryXbHvWJjbJH"
      }
    },
    {
      "cell_type": "markdown",
      "metadata": {
        "id": "17b54153"
      },
      "source": [
        "In Python, `__str__` and `__repr__` are special methods (dunder methods) that define how an object should be represented as a string. While they both provide string representations, they serve slightly different purposes:\n",
        "\n",
        "*   **`__str__(self)`:** This method is intended to return a \"readable\" string representation of an object. It's typically used for end-users and should be easy to understand. It's called by the built-in `str()` function and the `print()` function.\n",
        "\n",
        "*   **`__repr__(self)`:** This method is intended to return an \"official\" string representation of an object. It should be unambiguous and ideally, if possible, the string should be a valid Python expression that could be used to recreate the object. It's typically used by developers for debugging and introspection. It's called by the built-in `repr()` function and when an object is displayed in the interactive interpreter.\n",
        "\n",
        "**Key Differences and Best Practices:**\n",
        "\n",
        "*   If you only define `__repr__` and not `__str__`, the `str()` and `print()` functions will fall back to using the `__repr__` implementation.\n",
        "*   If you define both, `str()` and `print()` will use `__str__`, while `repr()` and the interactive interpreter will use `__repr__`.\n",
        "*   It's generally recommended to always define `__repr__` for your custom classes. This provides a useful representation for developers.\n",
        "*   Define `__str__` if you need a more user-friendly representation that is different from the `__repr__` output.\n",
        "\n"
      ]
    },
    {
      "cell_type": "markdown",
      "source": [
        "20. What is the significance of the ‘super()’ function in Python ?"
      ],
      "metadata": {
        "id": "J59KHa7_jwhf"
      }
    },
    {
      "cell_type": "markdown",
      "metadata": {
        "id": "e8ff58eb"
      },
      "source": [
        "In Python, the `super()` function is used to refer to the parent class (or superclass) in a way that supports cooperative multiple inheritance. Its primary purpose is to allow you to call methods of the parent class from within a subclass.\n",
        "\n",
        "**Key uses and significance of `super()`:**\n",
        "\n",
        "1.  **Calling Parent Class Methods:** The most common use of `super()` is to call a method that has been overridden in the subclass but you still want to execute the parent class's version of that method. This is particularly useful in the `__init__` constructor method to ensure that the parent class's initialization is performed."
      ]
    },
    {
      "cell_type": "code",
      "metadata": {
        "colab": {
          "base_uri": "https://localhost:8080/"
        },
        "id": "917bdf45",
        "outputId": "6aa58928-394c-40f6-f0f4-9f11a017e84c"
      },
      "source": [
        "    class A:\n",
        "        def process(self):\n",
        "            print(\"Processing in A\")\n",
        "\n",
        "    class B(A):\n",
        "        def process(self):\n",
        "            print(\"Processing in B\")\n",
        "            super().process() # Call the next process in MRO (which is A's process)\n",
        "\n",
        "    class C(A):\n",
        "        def process(self):\n",
        "            print(\"Processing in C\")\n",
        "            super().process() # Call the next process in MRO (which is A's process)\n",
        "\n",
        "    class D(B, C):\n",
        "        def process(self):\n",
        "            print(\"Processing in D\")\n",
        "            super().process() # Call the next process in MRO (which is B's process)\n",
        "\n",
        "    d = D()\n",
        "    d.process()\n",
        "    # Output will be:\n",
        "    # Processing in D\n",
        "    # Processing in B\n",
        "    # Processing in C\n",
        "    # Processing in A\n",
        "    # Note the order is determined by D's MRO (D -> B -> C -> A)"
      ],
      "execution_count": 1,
      "outputs": [
        {
          "output_type": "stream",
          "name": "stdout",
          "text": [
            "Processing in D\n",
            "Processing in B\n",
            "Processing in C\n",
            "Processing in A\n"
          ]
        }
      ]
    },
    {
      "cell_type": "markdown",
      "source": [
        "21. What is the significance of the __del__ method in Python ?"
      ],
      "metadata": {
        "id": "eXryKYxYkHDg"
      }
    },
    {
      "cell_type": "markdown",
      "metadata": {
        "id": "f5cffd47"
      },
      "source": [
        "In Python, the `__del__` method, also known as the **destructor**, is a special method that is called when an object is about to be destroyed or garbage collected. Its primary purpose is to perform cleanup actions that are necessary before the object is removed from memory.\n",
        "\n",
        "**Key points about `__del__`:**\n",
        "\n",
        "*   **Automatic Invocation:** `__del__` is not typically called directly by your code. It's invoked automatically by the Python garbage collector when the reference count for an object drops to zero. The garbage collector is responsible for reclaiming memory that is no longer being used by objects.\n",
        "*   **Cleanup Actions:** The `__del__` method is where you would put code to release external resources that the object might be holding, such as closing files, network connections, or database connections.\n",
        "*   **Unpredictable Timing:** The exact timing of when `__del__` is called can be unpredictable. It depends on the garbage collection process, which runs in the background. This means you should not rely on `__del__` for critical cleanup tasks that must happen at a specific time.\n",
        "*   **Potential Issues:** Using `__del__` can sometimes lead to issues, especially in complex applications with circular references or when dealing with exceptions during cleanup. It's often recommended to use alternative methods for cleanup, such as context managers (`with` statement) or explicit cleanup methods, whenever possible.\n",
        "\n",
        "**When might you use `__del__`?**\n",
        "\n",
        "While often discouraged for general cleanup due to its unpredictable nature, `__del__` might be considered in specific scenarios where:\n",
        "\n",
        "*   You are working with legacy code that uses it.\n",
        "*   You need to perform cleanup for resources that are not easily managed by other mechanisms (though this is rare).\n",
        "\n",
        "**In most modern Python code, using `with` statements for resource management (which utilize `__enter__` and `__exit__` methods) or defining explicit cleanup methods is preferred over relying on `__del__` due to its potential complexities and unpredictability.**"
      ]
    },
    {
      "cell_type": "markdown",
      "source": [
        "22. What is the difference between @staticmethod and @classmethod in Python ?"
      ],
      "metadata": {
        "id": "kbLc36p-lA0I"
      }
    },
    {
      "cell_type": "markdown",
      "metadata": {
        "id": "a34c21d4"
      },
      "source": [
        "In Python, **class methods** and **static methods** are types of methods defined within a class, but they differ in how they are bound and what they can access:\n",
        "\n",
        "**Class Methods:**\n",
        "\n",
        "*   **Definition:** Defined using the `@classmethod` decorator.\n",
        "*   **First Parameter:** Takes the class itself as the first parameter, conventionally named `cls`.\n",
        "*   **Purpose:** Often used to create factory methods that return an instance of the class or to provide alternative ways to create objects. They can access and modify class-level attributes.\n",
        "*   **Access:** Can access class attributes and other class methods.\n",
        "\n",
        "**Static Methods:**\n",
        "\n",
        "*   **Definition:** Defined using the `@staticmethod` decorator.\n",
        "*   **First Parameter:** Does not take an implicit first parameter (like `self` or `cls`).\n",
        "*   **Purpose:** Utility functions that are logically related to the class but do not need access to instance or class-specific data. They behave like regular functions but are defined within the class's namespace.\n",
        "*   **Access:** Cannot access instance attributes, class attributes, or other instance/class methods directly.\n",
        "\n",
        "**Key Differences:**\n",
        "\n",
        "| Feature          | Class Method (`@classmethod`)          | Static Method (`@staticmethod`)          |\n",
        "| :--------------- | :------------------------------------- | :--------------------------------------- |\n",
        "| Decorator        | `@classmethod`                         | `@staticmethod`                          |\n",
        "| First Parameter  | `cls` (the class itself)               | None (no implicit first parameter)       |\n",
        "| Access to Class  | Yes                                    | No                                       |\n",
        "| Access to Instance | No (unless passed explicitly)           | No                                       |\n",
        "| Use Cases        | Factory methods, class-level operations | Utility functions, related but independent |\n",
        "\n",
        "**When to use them:**\n",
        "\n",
        "*   Use **class methods** when you need a method that operates on the class itself, such as creating instances with different initializations or accessing/modifying class-level data.\n",
        "*   Use **static methods** when you have a utility function that belongs logically to the class but doesn't need to interact with instance or class data."
      ]
    },
    {
      "cell_type": "markdown",
      "source": [
        "23. How does polymorphism work in Python with inheritance ?"
      ],
      "metadata": {
        "id": "0f7sGgh8lQ5m"
      }
    },
    {
      "cell_type": "markdown",
      "metadata": {
        "id": "d7e5de3d"
      },
      "source": [
        "Polymorphism in Python, especially in the context of inheritance, is achieved through **method overriding** and **duck typing**.\n",
        "\n",
        "1.  **Method Overriding:**\n",
        "    *   When a subclass inherits from a superclass, it can provide its own implementation of a method that is already defined in the superclass.\n",
        "    *   When you call that method on an object of the subclass, the subclass's version of the method is executed. This is polymorphism in action – the same method call behaves differently depending on the object's type.\n",
        "\n",
        "2.  **Duck Typing:**\n",
        "    *   Python's dynamic typing system allows for polymorphism based on behavior rather than explicit type. If an object has a certain method (i.e., it \"walks like a duck and quacks like a duck\"), you can call that method on it, regardless of its class.\n",
        "    *   With inheritance, if multiple subclasses inherit from a common superclass and override a method, you can have a collection of objects from these different subclasses and call the overridden method on each of them. Python will execute the appropriate method based on the actual type of the object at runtime.\n",
        "\n",
        "**How they work together with Inheritance:**\n",
        "\n",
        "Inheritance provides the structure (the \"is-a\" relationship and the shared method names), and method overriding/duck typing provide the flexibility (the ability for different subclasses to implement those methods in their own way).\n",
        "\n",
        "When you have a function or code that expects an object of the superclass, you can pass in an object of any of its subclasses. Because of polymorphism, the correct overridden method for the subclass object will be called.\n",
        "\n",
        "**Example:**\n",
        "\n",
        "Consider an `Animal` superclass with a `make_sound()` method, and subclasses `Dog`, `Cat`, and `Cow` that inherit from `Animal` and override `make_sound()`:"
      ]
    },
    {
      "cell_type": "markdown",
      "source": [
        "24.  What is method chaining in Python OOP ?"
      ],
      "metadata": {
        "id": "F1aPozljlhlo"
      }
    },
    {
      "cell_type": "markdown",
      "metadata": {
        "id": "c4546986"
      },
      "source": [
        "In Python Object-Oriented Programming (OOP), **method chaining** is a technique where you call multiple methods on an object sequentially in a single line of code. This is possible when each method call returns the object itself (or another object that allows further method calls).\n",
        "\n",
        "Method chaining makes code more concise and can improve readability for certain types of operations, especially when performing a series of transformations or actions on an object.\n",
        "\n",
        "**How it works:**\n",
        "\n",
        "For method chaining to work, each method in the chain must return the object on which it was called (often `self` in Python). This allows the next method in the chain to be called on the result of the previous method call.\n",
        "\n",
        "**Example:**\n",
        "\n",
        "Consider a class that has methods to modify a string:"
      ]
    },
    {
      "cell_type": "code",
      "metadata": {
        "colab": {
          "base_uri": "https://localhost:8080/"
        },
        "id": "e3d560a4",
        "outputId": "513715d9-1d8d-4f4d-b7ed-8d324c258edd"
      },
      "source": [
        "class StringModifier:\n",
        "    def __init__(self, text):\n",
        "        self.text = text\n",
        "\n",
        "    def add_prefix(self, prefix):\n",
        "        self.text = prefix + self.text\n",
        "        return self # Return the object itself\n",
        "\n",
        "    def add_suffix(self, suffix):\n",
        "        self.text = self.text + suffix\n",
        "        return self # Return the object itself\n",
        "\n",
        "    def to_uppercase(self):\n",
        "        self.text = self.text.upper()\n",
        "        return self # Return the object itself\n",
        "\n",
        "    def get_text(self):\n",
        "        return self.text\n",
        "\n",
        "# Using method chaining\n",
        "modified_string = StringModifier(\"world\").add_prefix(\"hello \").add_suffix(\"!\").to_uppercase().get_text()\n",
        "\n",
        "print(modified_string) # Output: HELLO WORLD!"
      ],
      "execution_count": 2,
      "outputs": [
        {
          "output_type": "stream",
          "name": "stdout",
          "text": [
            "HELLO WORLD!\n"
          ]
        }
      ]
    },
    {
      "cell_type": "markdown",
      "metadata": {
        "id": "cd31f7af"
      },
      "source": [
        "In this example, each of the modification methods (`add_prefix`, `add_suffix`, `to_uppercase`) returns `self`, allowing the next method in the chain to be called on the same `StringModifier` object. The final `get_text()` method is then called to retrieve the modified string.\n",
        "\n",
        "**Benefits of Method Chaining:**\n",
        "\n",
        "*   **Conciseness:** Reduces the number of lines of code needed for sequential operations.\n",
        "*   **Readability (in some cases):** Can make a series of related operations easier to read and understand, especially when the order of operations is clear.\n",
        "\n",
        "**Considerations:**\n",
        "\n",
        "*   While method chaining can improve conciseness, excessive chaining can sometimes make code less readable, especially if the method names are long or the operations are complex.\n",
        "*   It's important for the methods intended for chaining to explicitly return `self` to enable the chaining."
      ]
    },
    {
      "cell_type": "markdown",
      "source": [
        "25. What is the purpose of the __call__ method in Python ?"
      ],
      "metadata": {
        "id": "IFdwqfN0lxJy"
      }
    },
    {
      "cell_type": "markdown",
      "metadata": {
        "id": "4877341f"
      },
      "source": [
        "In Python, the `__call__` method is a special method (a dunder method) that allows an object to be treated like a function. When you define the `__call__` method in a class, you can call instances of that class as if they were functions.\n",
        "\n",
        "Essentially, implementing `__call__` makes an object **callable**. This means you can use the object name followed by parentheses (`()`) to execute the code within the `__call__` method.\n",
        "\n",
        "**Purpose and Use Cases:**\n",
        "\n",
        "The `__call__` method is useful in several scenarios:\n",
        "\n",
        "1.  **Creating Function-like Objects:** You can create objects that maintain state (attributes) but can be called like functions. This is often used for creating objects that act as decorators, closures, or objects that need to perform a specific action when invoked.\n",
        "2.  **Stateful Functions:** Unlike regular functions, objects with `__call__` can store and modify state between calls. This allows you to create \"stateful\" functions.\n",
        "3.  **Customizing Object Behavior:** It provides a way to define what happens when an object is \"called.\"\n",
        "\n",
        "**Example:**"
      ]
    },
    {
      "cell_type": "code",
      "metadata": {
        "colab": {
          "base_uri": "https://localhost:8080/"
        },
        "id": "ea3a5109",
        "outputId": "c8b76b0c-bc25-4f43-fe4a-c4fd4a624f38"
      },
      "source": [
        "class Multiplier:\n",
        "    def __init__(self, factor):\n",
        "        self.factor = factor\n",
        "\n",
        "    def __call__(self, number):\n",
        "        \"\"\"Multiply the number by the factor.\"\"\"\n",
        "        return number * self.factor\n",
        "\n",
        "# Create an instance of the Multiplier class\n",
        "double = Multiplier(2)\n",
        "triple = Multiplier(3)\n",
        "\n",
        "# Call the instances like functions\n",
        "print(double(5))  # Output: 10\n",
        "print(triple(5))  # Output: 15\n",
        "\n",
        "# The object 'double' and 'triple' are callable\n",
        "print(callable(double)) # Output: True"
      ],
      "execution_count": 3,
      "outputs": [
        {
          "output_type": "stream",
          "name": "stdout",
          "text": [
            "10\n",
            "15\n",
            "True\n"
          ]
        }
      ]
    },
    {
      "cell_type": "markdown",
      "metadata": {
        "id": "8573652a"
      },
      "source": [
        "In this example, the `Multiplier` class has an `__init__` method to store a `factor` and a `__call__` method that performs the multiplication. When you create instances `double` and `triple`, you can then call them directly with a number, and the `__call__` method is executed, using the stored `factor`."
      ]
    },
    {
      "cell_type": "markdown",
      "source": [
        "**Practical**"
      ],
      "metadata": {
        "id": "BSw_z3_AmAkR"
      }
    },
    {
      "cell_type": "markdown",
      "source": [
        "1.Create a parent class Animal with a method speak() that prints a generic message. Create a child class Dog that overrides the speak() method to print \"Bark!\n",
        "              "
      ],
      "metadata": {
        "id": "F5iLf2P2mpez"
      }
    },
    {
      "cell_type": "code",
      "metadata": {
        "colab": {
          "base_uri": "https://localhost:8080/"
        },
        "id": "1f596a02",
        "outputId": "d2655ae5-aa7b-48e0-f618-0edf69c8d34b"
      },
      "source": [
        "class Animal:\n",
        "    def speak(self):\n",
        "        print(\"Generic animal sound\")\n",
        "\n",
        "class Dog(Animal):\n",
        "    def speak(self):\n",
        "        print(\"Bark!\")\n",
        "\n",
        "# Example usage\n",
        "animal = Animal()\n",
        "animal.speak()\n",
        "\n",
        "dog = Dog()\n",
        "dog.speak()"
      ],
      "execution_count": 7,
      "outputs": [
        {
          "output_type": "stream",
          "name": "stdout",
          "text": [
            "Generic animal sound\n",
            "Bark!\n"
          ]
        }
      ]
    },
    {
      "cell_type": "markdown",
      "source": [
        "2. Write a program to create an abstract class Shape with a method area(). Derive classes Circle and Rectangle\n",
        "from it and implement the area() method in both."
      ],
      "metadata": {
        "id": "AF2X4RVxnTMw"
      }
    },
    {
      "cell_type": "code",
      "metadata": {
        "colab": {
          "base_uri": "https://localhost:8080/"
        },
        "id": "a5522dca",
        "outputId": "0750b9b7-923d-4127-edb6-54db4832585c"
      },
      "source": [
        "from abc import ABC, abstractmethod\n",
        "\n",
        "class Shape(ABC):\n",
        "    @abstractmethod\n",
        "    def area(self):\n",
        "        pass\n",
        "\n",
        "class Circle(Shape):\n",
        "    def __init__(self, radius):\n",
        "        if radius < 0:\n",
        "            raise ValueError(\"Radius cannot be negative\")\n",
        "        self.radius = radius\n",
        "\n",
        "    def area(self):\n",
        "        return 3.14159 * self.radius**2\n",
        "\n",
        "class Rectangle(Shape):\n",
        "    def __init__(self, width, height):\n",
        "        if width < 0 or height < 0:\n",
        "            raise ValueError(\"Width and height cannot be negative\")\n",
        "        self.width = width\n",
        "        self.height = height\n",
        "\n",
        "    def area(self):\n",
        "        return self.width * self.height\n",
        "\n",
        "# Example usage\n",
        "# shape = Shape() # This would raise a TypeError because Shape is an abstract class\n",
        "\n",
        "circle = Circle(5)\n",
        "rectangle = Rectangle(4, 6)\n",
        "\n",
        "print(f\"Area of circle: {circle.area()}\")\n",
        "print(f\"Area of rectangle: {rectangle.area()}\")\n",
        "\n",
        "# Example of trying to create an object with invalid values\n",
        "try:\n",
        "    invalid_circle = Circle(-2)\n",
        "except ValueError as e:\n",
        "    print(f\"Error creating circle: {e}\")\n",
        "\n",
        "try:\n",
        "    invalid_rectangle = Rectangle(5, -3)\n",
        "except ValueError as e:\n",
        "    print(f\"Error creating rectangle: {e}\")"
      ],
      "execution_count": 8,
      "outputs": [
        {
          "output_type": "stream",
          "name": "stdout",
          "text": [
            "Area of circle: 78.53975\n",
            "Area of rectangle: 24\n",
            "Error creating circle: Radius cannot be negative\n",
            "Error creating rectangle: Width and height cannot be negative\n"
          ]
        }
      ]
    },
    {
      "cell_type": "markdown",
      "source": [
        "3.Implement a multi-level inheritance scenario where a class Vehicle has an attribute type. Derive a class Car\n",
        "and further derive a class ElectricCar that adds a battery attribute"
      ],
      "metadata": {
        "id": "O0a86t8UndND"
      }
    },
    {
      "cell_type": "code",
      "metadata": {
        "colab": {
          "base_uri": "https://localhost:8080/"
        },
        "id": "9a6c2d67",
        "outputId": "0c6f910d-1426-45b8-d1f2-f7a4c9e76725"
      },
      "source": [
        "class Vehicle:\n",
        "    def __init__(self, vehicle_type):\n",
        "        self.type = vehicle_type\n",
        "\n",
        "class Car(Vehicle):\n",
        "    def __init__(self, vehicle_type, model):\n",
        "        super().__init__(vehicle_type)\n",
        "        self.model = model\n",
        "\n",
        "class ElectricCar(Car):\n",
        "    def __init__(self, vehicle_type, model, battery_capacity):\n",
        "        super().__init__(vehicle_type, model)\n",
        "        self.battery = battery_capacity\n",
        "\n",
        "# Example usage\n",
        "vehicle = Vehicle(\"Generic Vehicle\")\n",
        "print(f\"Vehicle type: {vehicle.type}\")\n",
        "\n",
        "car = Car(\"Sedan\", \"Toyota Camry\")\n",
        "print(f\"Car type: {car.type}, Model: {car.model}\")\n",
        "\n",
        "electric_car = ElectricCar(\"Sedan\", \"Tesla Model 3\", \"75 kWh\")\n",
        "print(f\"Electric Car type: {electric_car.type}, Model: {electric_car.model}, Battery: {electric_car.battery}\")"
      ],
      "execution_count": 9,
      "outputs": [
        {
          "output_type": "stream",
          "name": "stdout",
          "text": [
            "Vehicle type: Generic Vehicle\n",
            "Car type: Sedan, Model: Toyota Camry\n",
            "Electric Car type: Sedan, Model: Tesla Model 3, Battery: 75 kWh\n"
          ]
        }
      ]
    },
    {
      "cell_type": "markdown",
      "source": [
        "4. Demonstrate polymorphism by creating a base class Bird with a method fly(). Create two derived classes\n",
        "Sparrow and Penguin that override the fly() method."
      ],
      "metadata": {
        "id": "Ht5k9AGintT9"
      }
    },
    {
      "cell_type": "code",
      "metadata": {
        "colab": {
          "base_uri": "https://localhost:8080/"
        },
        "id": "1f035c6e",
        "outputId": "b05eff10-209d-4222-a7a9-f67e62089632"
      },
      "source": [
        "class Bird:\n",
        "    def fly(self):\n",
        "        print(\"Most birds can fly\")\n",
        "\n",
        "class Sparrow(Bird):\n",
        "    def fly(self):\n",
        "        print(\"Sparrows fly short distances\")\n",
        "\n",
        "class Penguin(Bird):\n",
        "    def fly(self):\n",
        "        print(\"Penguins cannot fly, they swim!\")\n",
        "\n",
        "# Demonstrate polymorphism\n",
        "birds = [Bird(), Sparrow(), Penguin()]\n",
        "\n",
        "for bird in birds:\n",
        "    bird.fly()"
      ],
      "execution_count": 10,
      "outputs": [
        {
          "output_type": "stream",
          "name": "stdout",
          "text": [
            "Most birds can fly\n",
            "Sparrows fly short distances\n",
            "Penguins cannot fly, they swim!\n"
          ]
        }
      ]
    },
    {
      "cell_type": "markdown",
      "source": [
        "5. Write a program to demonstrate encapsulation by creating a class BankAccount with private attributes\n",
        "balance and methods to deposit, withdraw, and check balance."
      ],
      "metadata": {
        "id": "8aIg_iIeoZ7m"
      }
    },
    {
      "cell_type": "code",
      "metadata": {
        "colab": {
          "base_uri": "https://localhost:8080/"
        },
        "id": "1b11cfb0",
        "outputId": "0bc8b3eb-993e-4684-cce5-2850a274397a"
      },
      "source": [
        "class BankAccount:\n",
        "    def __init__(self, initial_balance=0):\n",
        "        # Private attribute using name mangling\n",
        "        self.__balance = initial_balance\n",
        "\n",
        "    def deposit(self, amount):\n",
        "        if amount > 0:\n",
        "            self.__balance += amount\n",
        "            print(f\"Deposited: ${amount}. New balance: ${self.__balance}\")\n",
        "        else:\n",
        "            print(\"Deposit amount must be positive.\")\n",
        "\n",
        "    def withdraw(self, amount):\n",
        "        if amount > 0:\n",
        "            if self.__balance >= amount:\n",
        "                self.__balance -= amount\n",
        "                print(f\"Withdrew: ${amount}. New balance: ${self.__balance}\")\n",
        "            else:\n",
        "                print(\"Insufficient funds.\")\n",
        "        else:\n",
        "            print(\"Withdrawal amount must be positive.\")\n",
        "\n",
        "    def get_balance(self):\n",
        "        # Getter method to access the private attribute\n",
        "        return self.__balance\n",
        "\n",
        "# Example usage\n",
        "account = BankAccount(1000)\n",
        "\n",
        "account.deposit(500)\n",
        "account.withdraw(200)\n",
        "print(f\"Current balance: ${account.get_balance()}\")\n",
        "\n",
        "account.withdraw(1500) # Insufficient funds\n",
        "account.deposit(-100)  # Invalid deposit amount\n",
        "\n",
        "# Trying to access the private attribute directly (will result in an AttributeError or name mangling)\n",
        "# print(account.__balance) # This would typically raise an AttributeError\n",
        "# print(account._BankAccount__balance) # Accessing via name mangling (discouraged)"
      ],
      "execution_count": 11,
      "outputs": [
        {
          "output_type": "stream",
          "name": "stdout",
          "text": [
            "Deposited: $500. New balance: $1500\n",
            "Withdrew: $200. New balance: $1300\n",
            "Current balance: $1300\n",
            "Insufficient funds.\n",
            "Deposit amount must be positive.\n"
          ]
        }
      ]
    },
    {
      "cell_type": "markdown",
      "source": [
        "6. Demonstrate runtime polymorphism using a method play() in a base class Instrument. Derive classes Guitar\n",
        "and Piano that implement their own version of play()"
      ],
      "metadata": {
        "id": "jI2iRV62op6s"
      }
    },
    {
      "cell_type": "code",
      "metadata": {
        "colab": {
          "base_uri": "https://localhost:8080/"
        },
        "id": "42b02f51",
        "outputId": "781909fb-8299-496a-c88e-6526f2a7d1e4"
      },
      "source": [
        "class Instrument:\n",
        "    def play(self):\n",
        "        print(\"Playing a generic instrument sound\")\n",
        "\n",
        "class Guitar(Instrument):\n",
        "    def play(self):\n",
        "        print(\"Strumming the guitar\")\n",
        "\n",
        "class Piano(Instrument):\n",
        "    def play(self):\n",
        "        print(\"Playing the piano keys\")\n",
        "\n",
        "# Demonstrate runtime polymorphism\n",
        "instruments = [Instrument(), Guitar(), Piano()]\n",
        "\n",
        "for instrument in instruments:\n",
        "    instrument.play()"
      ],
      "execution_count": 12,
      "outputs": [
        {
          "output_type": "stream",
          "name": "stdout",
          "text": [
            "Playing a generic instrument sound\n",
            "Strumming the guitar\n",
            "Playing the piano keys\n"
          ]
        }
      ]
    },
    {
      "cell_type": "markdown",
      "source": [
        "7.  Create a class MathOperations with a class method add_numbers() to add two numbers and a static\n",
        "method subtract_numbers() to subtract two numbers."
      ],
      "metadata": {
        "id": "WSUCyWJlo7au"
      }
    },
    {
      "cell_type": "code",
      "metadata": {
        "colab": {
          "base_uri": "https://localhost:8080/"
        },
        "id": "c93d7c31",
        "outputId": "bfccae49-dcfb-4fee-b1dd-eda87ddfb900"
      },
      "source": [
        "class MathOperations:\n",
        "    @classmethod\n",
        "    def add_numbers(cls, x, y):\n",
        "        \"\"\"Class method to add two numbers.\"\"\"\n",
        "        print(\"Using class method for addition:\")\n",
        "        return x + y\n",
        "\n",
        "    @staticmethod\n",
        "    def subtract_numbers(x, y):\n",
        "        \"\"\"Static method to subtract two numbers.\"\"\"\n",
        "        print(\"Using static method for subtraction:\")\n",
        "        return x - y\n",
        "\n",
        "# Example usage\n",
        "# Call class method using the class name\n",
        "sum_result = MathOperations.add_numbers(10, 5)\n",
        "print(f\"Sum: {sum_result}\")\n",
        "\n",
        "# Call static method using the class name\n",
        "difference_result = MathOperations.subtract_numbers(10, 5)\n",
        "print(f\"Difference: {difference_result}\")\n",
        "\n",
        "# You can also call them using an instance, but it's less common for these types of methods\n",
        "# math_obj = MathOperations()\n",
        "# sum_result_instance = math_obj.add_numbers(20, 10)\n",
        "# print(f\"Sum (via instance): {sum_result_instance}\")\n",
        "# difference_result_instance = math_obj.subtract_numbers(20, 10)\n",
        "# print(f\"Difference (via instance): {difference_result_instance}\")"
      ],
      "execution_count": 13,
      "outputs": [
        {
          "output_type": "stream",
          "name": "stdout",
          "text": [
            "Using class method for addition:\n",
            "Sum: 15\n",
            "Using static method for subtraction:\n",
            "Difference: 5\n"
          ]
        }
      ]
    },
    {
      "cell_type": "markdown",
      "source": [
        "8.  Implement a class Person with a class method to count the total number of persons created."
      ],
      "metadata": {
        "id": "ir-1W8FlpaGp"
      }
    },
    {
      "cell_type": "code",
      "metadata": {
        "colab": {
          "base_uri": "https://localhost:8080/"
        },
        "id": "c811af4f",
        "outputId": "c4e38721-0cd1-4803-8375-33e28675d96f"
      },
      "source": [
        "class Person:\n",
        "    # Class variable to keep track of the number of persons created\n",
        "    number_of_persons = 0\n",
        "\n",
        "    def __init__(self, name):\n",
        "        self.name = name\n",
        "        # Increment the class variable whenever a new instance is created\n",
        "        Person.number_of_persons += 1\n",
        "\n",
        "    @classmethod\n",
        "    def count_persons(cls):\n",
        "        \"\"\"Class method to return the total number of persons created.\"\"\"\n",
        "        return cls.number_of_persons\n",
        "\n",
        "# Example usage\n",
        "person1 = Person(\"Alice\")\n",
        "person2 = Person(\"Bob\")\n",
        "person3 = Person(\"Charlie\")\n",
        "\n",
        "# Access the class method using the class name\n",
        "total_persons = Person.count_persons()\n",
        "print(f\"Total number of persons created: {total_persons}\")\n",
        "\n",
        "# You can also access the class variable directly\n",
        "print(f\"Total number of persons (direct access): {Person.number_of_persons}\")"
      ],
      "execution_count": 14,
      "outputs": [
        {
          "output_type": "stream",
          "name": "stdout",
          "text": [
            "Total number of persons created: 3\n",
            "Total number of persons (direct access): 3\n"
          ]
        }
      ]
    },
    {
      "cell_type": "markdown",
      "source": [
        "9. Write a class Fraction with attributes numerator and denominator. Override the str method to display the\n",
        "fraction as \"numerator/denominator\""
      ],
      "metadata": {
        "id": "9MkZJzsNpk_x"
      }
    },
    {
      "cell_type": "code",
      "metadata": {
        "colab": {
          "base_uri": "https://localhost:8080/"
        },
        "id": "4a2ad44e",
        "outputId": "6befda25-6085-4cf8-93de-ce97767983b7"
      },
      "source": [
        "class Fraction:\n",
        "    def __init__(self, numerator, denominator):\n",
        "        self.numerator = numerator\n",
        "        if denominator == 0:\n",
        "            raise ValueError(\"Denominator cannot be zero\")\n",
        "        self.denominator = denominator\n",
        "\n",
        "    def __str__(self):\n",
        "        \"\"\"Override the str method to display the fraction as 'numerator/denominator'.\"\"\"\n",
        "        return f\"{self.numerator}/{self.denominator}\"\n",
        "\n",
        "# Example usage\n",
        "fraction1 = Fraction(3, 4)\n",
        "print(fraction1) # This will call the __str__ method\n",
        "\n",
        "fraction2 = Fraction(1, 2)\n",
        "print(f\"The fraction is: {fraction2}\") # Also calls the __str__ method\n",
        "\n",
        "# Example of trying to create a fraction with a zero denominator\n",
        "try:\n",
        "    invalid_fraction = Fraction(1, 0)\n",
        "except ValueError as e:\n",
        "    print(f\"Error creating fraction: {e}\")"
      ],
      "execution_count": 15,
      "outputs": [
        {
          "output_type": "stream",
          "name": "stdout",
          "text": [
            "3/4\n",
            "The fraction is: 1/2\n",
            "Error creating fraction: Denominator cannot be zero\n"
          ]
        }
      ]
    },
    {
      "cell_type": "markdown",
      "source": [
        " 10. Demonstrate operator overloading by creating a class Vector and overriding the add method to add two\n",
        "vectors."
      ],
      "metadata": {
        "id": "qderW6F6pygB"
      }
    },
    {
      "cell_type": "code",
      "metadata": {
        "colab": {
          "base_uri": "https://localhost:8080/"
        },
        "id": "07497326",
        "outputId": "243d8465-30a0-4513-f976-3c6eef512a84"
      },
      "source": [
        "class Vector:\n",
        "    def __init__(self, x, y):\n",
        "        self.x = x\n",
        "        self.y = y\n",
        "\n",
        "    def __str__(self):\n",
        "        return f\"Vector({self.x}, {self.y})\"\n",
        "\n",
        "    def __add__(self, other):\n",
        "        \"\"\"Override the + operator to add two vectors.\"\"\"\n",
        "        if isinstance(other, Vector):\n",
        "            return Vector(self.x + other.x, self.y + other.y)\n",
        "        else:\n",
        "            raise TypeError(\"Unsupported operand type for +: 'Vector' and '{}'\".format(type(other).__name__))\n",
        "\n",
        "# Example usage\n",
        "vector1 = Vector(2, 3)\n",
        "vector2 = Vector(1, 5)\n",
        "\n",
        "# Using the overloaded + operator\n",
        "vector3 = vector1 + vector2\n",
        "print(vector3) # This will call the __add__ method and then the __str__ method\n",
        "\n",
        "# Example of trying to add a Vector and a non-Vector\n",
        "try:\n",
        "    result = vector1 + 10\n",
        "except TypeError as e:\n",
        "    print(f\"Error: {e}\")"
      ],
      "execution_count": 16,
      "outputs": [
        {
          "output_type": "stream",
          "name": "stdout",
          "text": [
            "Vector(3, 8)\n",
            "Error: Unsupported operand type for +: 'Vector' and 'int'\n"
          ]
        }
      ]
    },
    {
      "cell_type": "markdown",
      "source": [
        "11. Create a class Person with attributes name and age. Add a method greet() that prints \"Hello, my name is\n",
        "{name} and I am {age} years old.\""
      ],
      "metadata": {
        "id": "0Xvja5LAp7Il"
      }
    },
    {
      "cell_type": "code",
      "metadata": {
        "colab": {
          "base_uri": "https://localhost:8080/"
        },
        "id": "bd2b4af2",
        "outputId": "a423f1f8-8b52-4045-976f-95a92ea798f5"
      },
      "source": [
        "class Person:\n",
        "    def __init__(self, name, age):\n",
        "        self.name = name\n",
        "        self.age = age\n",
        "\n",
        "    def greet(self):\n",
        "        print(f\"Hello, my name is {self.name} and I am {self.age} years old.\")\n",
        "\n",
        "# Example usage\n",
        "person1 = Person(\"Alice\", 30)\n",
        "person1.greet()\n",
        "\n",
        "person2 = Person(\"Bob\", 25)\n",
        "person2.greet()"
      ],
      "execution_count": 17,
      "outputs": [
        {
          "output_type": "stream",
          "name": "stdout",
          "text": [
            "Hello, my name is Alice and I am 30 years old.\n",
            "Hello, my name is Bob and I am 25 years old.\n"
          ]
        }
      ]
    },
    {
      "cell_type": "markdown",
      "source": [
        " 12. Implement a class Student with attributes name and grades. Create a method average_grade() to compute\n",
        "the average of the grades."
      ],
      "metadata": {
        "id": "aZTS5aNiqMME"
      }
    },
    {
      "cell_type": "code",
      "metadata": {
        "colab": {
          "base_uri": "https://localhost:8080/"
        },
        "id": "dc57da8a",
        "outputId": "5f87b774-6fbb-4224-9f3a-14824a095262"
      },
      "source": [
        "class Student:\n",
        "    def __init__(self, name, grades):\n",
        "        self.name = name\n",
        "        self.grades = grades\n",
        "\n",
        "    def average_grade(self):\n",
        "        \"\"\"Computes the average of the student's grades.\"\"\"\n",
        "        if not self.grades:\n",
        "            return 0  # Return 0 if there are no grades\n",
        "        return sum(self.grades) / len(self.grades)\n",
        "\n",
        "# Example usage\n",
        "student1 = Student(\"Alice\", [85, 90, 92, 88])\n",
        "print(f\"{student1.name}'s average grade: {student1.average_grade()}\")\n",
        "\n",
        "student2 = Student(\"Bob\", [70, 75, 80])\n",
        "print(f\"{student2.name}'s average grade: {student2.average_grade()}\")\n",
        "\n",
        "student3 = Student(\"Charlie\", [])\n",
        "print(f\"{student3.name}'s average grade: {student3.average_grade()}\")"
      ],
      "execution_count": 18,
      "outputs": [
        {
          "output_type": "stream",
          "name": "stdout",
          "text": [
            "Alice's average grade: 88.75\n",
            "Bob's average grade: 75.0\n",
            "Charlie's average grade: 0\n"
          ]
        }
      ]
    },
    {
      "cell_type": "markdown",
      "source": [
        " 13. Create a class Rectangle with methods set_dimensions() to set the dimensions and area() to calculate the\n",
        "area."
      ],
      "metadata": {
        "id": "NSm4CprxqW6N"
      }
    },
    {
      "cell_type": "code",
      "metadata": {
        "colab": {
          "base_uri": "https://localhost:8080/"
        },
        "id": "6a2c71a2",
        "outputId": "197440a4-9273-45bb-ec03-d53dd364f64e"
      },
      "source": [
        "class Rectangle:\n",
        "    def __init__(self, width=0, height=0):\n",
        "        self.width = width\n",
        "        self.height = height\n",
        "\n",
        "    def set_dimensions(self, width, height):\n",
        "        \"\"\"Sets the width and height of the rectangle.\"\"\"\n",
        "        if width >= 0 and height >= 0:\n",
        "            self.width = width\n",
        "            self.height = height\n",
        "        else:\n",
        "            raise ValueError(\"Dimensions cannot be negative\")\n",
        "\n",
        "    def area(self):\n",
        "        \"\"\"Calculates the area of the rectangle.\"\"\"\n",
        "        return self.width * self.height\n",
        "\n",
        "# Example usage\n",
        "rectangle1 = Rectangle(5, 10)\n",
        "print(f\"Initial area: {rectangle1.area()}\")\n",
        "\n",
        "rectangle1.set_dimensions(7, 12)\n",
        "print(f\"New area after setting dimensions: {rectangle1.area()}\")\n",
        "\n",
        "# Example of trying to set negative dimensions\n",
        "try:\n",
        "    rectangle1.set_dimensions(-2, 5)\n",
        "except ValueError as e:\n",
        "    print(f\"Error setting dimensions: {e}\")"
      ],
      "execution_count": 19,
      "outputs": [
        {
          "output_type": "stream",
          "name": "stdout",
          "text": [
            "Initial area: 50\n",
            "New area after setting dimensions: 84\n",
            "Error setting dimensions: Dimensions cannot be negative\n"
          ]
        }
      ]
    },
    {
      "cell_type": "markdown",
      "source": [
        "15. Create a class Product with attributes name, price, and quantity. Implement a method total_price() that\n",
        "calculates the total price of the product."
      ],
      "metadata": {
        "id": "0aZP1PStqfGT"
      }
    },
    {
      "cell_type": "code",
      "metadata": {
        "colab": {
          "base_uri": "https://localhost:8080/"
        },
        "id": "8bcda0db",
        "outputId": "62fef39c-cd14-43b2-fadf-f928c27fd6ca"
      },
      "source": [
        "class Product:\n",
        "    def __init__(self, name, price, quantity):\n",
        "        self.name = name\n",
        "        if price < 0:\n",
        "            raise ValueError(\"Price cannot be negative\")\n",
        "        self.price = price\n",
        "        if quantity < 0:\n",
        "            raise ValueError(\"Quantity cannot be negative\")\n",
        "        self.quantity = quantity\n",
        "\n",
        "    def total_price(self):\n",
        "        \"\"\"Calculates the total price of the product.\"\"\"\n",
        "        return self.price * self.quantity\n",
        "\n",
        "# Example usage\n",
        "product1 = Product(\"Laptop\", 1200, 2)\n",
        "print(f\"{product1.name} total price: ${product1.total_price()}\")\n",
        "\n",
        "product2 = Product(\"Mouse\", 25, 10)\n",
        "print(f\"{product2.name} total price: ${product2.total_price()}\")\n",
        "\n",
        "# Example with invalid input\n",
        "try:\n",
        "    invalid_product = Product(\"Keyboard\", -50, 5)\n",
        "except ValueError as e:\n",
        "    print(f\"Error creating product: {e}\")\n",
        "\n",
        "try:\n",
        "    invalid_product = Product(\"Monitor\", 300, -2)\n",
        "except ValueError as e:\n",
        "    print(f\"Error creating product: {e}\")"
      ],
      "execution_count": 20,
      "outputs": [
        {
          "output_type": "stream",
          "name": "stdout",
          "text": [
            "Laptop total price: $2400\n",
            "Mouse total price: $250\n",
            "Error creating product: Price cannot be negative\n",
            "Error creating product: Quantity cannot be negative\n"
          ]
        }
      ]
    },
    {
      "cell_type": "markdown",
      "source": [
        " 16. Create a class Animal with an abstract method sound(). Create two derived classes Cow and Sheep that\n",
        "implement the sound() method."
      ],
      "metadata": {
        "id": "0VecAbCBqyD9"
      }
    },
    {
      "cell_type": "code",
      "metadata": {
        "colab": {
          "base_uri": "https://localhost:8080/"
        },
        "id": "19d595a8",
        "outputId": "0411e0f2-311b-430e-9530-c766663f1d7d"
      },
      "source": [
        "from abc import ABC, abstractmethod\n",
        "\n",
        "class Animal(ABC):\n",
        "    @abstractmethod\n",
        "    def sound(self):\n",
        "        pass\n",
        "\n",
        "class Cow(Animal):\n",
        "    def sound(self):\n",
        "        return \"Moo!\"\n",
        "\n",
        "class Sheep(Animal):\n",
        "    def sound(self):\n",
        "        return \"Baa!\"\n",
        "\n",
        "# Example usage\n",
        "# animal = Animal() # This would raise a TypeError because Animal is an abstract class\n",
        "\n",
        "cow = Cow()\n",
        "sheep = Sheep()\n",
        "\n",
        "print(f\"Cow says: {cow.sound()}\")\n",
        "print(f\"Sheep says: {sheep.sound()}\")\n",
        "\n",
        "# Demonstrate polymorphism\n",
        "animals = [Cow(), Sheep()]\n",
        "\n",
        "for animal in animals:\n",
        "    print(f\"An animal says: {animal.sound()}\")"
      ],
      "execution_count": 21,
      "outputs": [
        {
          "output_type": "stream",
          "name": "stdout",
          "text": [
            "Cow says: Moo!\n",
            "Sheep says: Baa!\n",
            "An animal says: Moo!\n",
            "An animal says: Baa!\n"
          ]
        }
      ]
    },
    {
      "cell_type": "markdown",
      "source": [
        " 17. Create a class Book with attributes title, author, and year_published. Add a method get_book_info() that\n",
        "returns a formatted string with the book's details."
      ],
      "metadata": {
        "id": "VnENB7J4q4dM"
      }
    },
    {
      "cell_type": "code",
      "metadata": {
        "colab": {
          "base_uri": "https://localhost:8080/"
        },
        "id": "c5b49909",
        "outputId": "516df949-4a78-4d73-a223-95bd4a461f6b"
      },
      "source": [
        "class Book:\n",
        "    def __init__(self, title, author, year_published):\n",
        "        self.title = title\n",
        "        self.author = author\n",
        "        self.year_published = year_published\n",
        "\n",
        "    def get_book_info(self):\n",
        "        \"\"\"Returns a formatted string with the book's details.\"\"\"\n",
        "        return f\"Title: {self.title}, Author: {self.author}, Year Published: {self.year_published}\"\n",
        "\n",
        "# Example usage\n",
        "book1 = Book(\"The Hitchhiker's Guide to the Galaxy\", \"Douglas Adams\", 1979)\n",
        "print(book1.get_book_info())\n",
        "\n",
        "book2 = Book(\"Pride and Prejudice\", \"Jane Austen\", 1813)\n",
        "print(book2.get_book_info())"
      ],
      "execution_count": 22,
      "outputs": [
        {
          "output_type": "stream",
          "name": "stdout",
          "text": [
            "Title: The Hitchhiker's Guide to the Galaxy, Author: Douglas Adams, Year Published: 1979\n",
            "Title: Pride and Prejudice, Author: Jane Austen, Year Published: 1813\n"
          ]
        }
      ]
    },
    {
      "cell_type": "markdown",
      "source": [
        "18. Create a class House with attributes address and price. Create a derived class Mansion that adds an\n",
        "attribute number_of_rooms."
      ],
      "metadata": {
        "id": "HvEaYpRXrL-G"
      }
    },
    {
      "cell_type": "code",
      "metadata": {
        "colab": {
          "base_uri": "https://localhost:8080/"
        },
        "id": "e97981d4",
        "outputId": "b69360be-87c9-42d6-e24a-a58683dccba2"
      },
      "source": [
        "class House:\n",
        "    def __init__(self, address, price):\n",
        "        self.address = address\n",
        "        self.price = price\n",
        "\n",
        "class Mansion(House):\n",
        "    def __init__(self, address, price, number_of_rooms):\n",
        "        super().__init__(address, price)\n",
        "        self.number_of_rooms = number_of_rooms\n",
        "\n",
        "# Example usage\n",
        "house = House(\"123 Main St\", 300000)\n",
        "print(f\"House at {house.address} costs ${house.price}\")\n",
        "\n",
        "mansion = Mansion(\"456 Elite Ave\", 5000000, 20)\n",
        "print(f\"Mansion at {mansion.address} costs ${mansion.price} and has {mansion.number_of_rooms} rooms\")"
      ],
      "execution_count": 23,
      "outputs": [
        {
          "output_type": "stream",
          "name": "stdout",
          "text": [
            "House at 123 Main St costs $300000\n",
            "Mansion at 456 Elite Ave costs $5000000 and has 20 rooms\n"
          ]
        }
      ]
    }
  ]
}